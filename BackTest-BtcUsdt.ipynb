{
 "cells": [
  {
   "cell_type": "code",
   "execution_count": 112,
   "metadata": {},
   "outputs": [],
   "source": [
    "import yfinance as yf\n",
    "import talib as ta\n",
    "import pandas as pd\n",
    "import numpy as np\n",
    "from backtesting import Backtest, Strategy\n",
    "from backtesting.lib import crossover"
   ]
  },
  {
   "cell_type": "code",
   "execution_count": 113,
   "metadata": {},
   "outputs": [],
   "source": [
    "class SMAcross(Strategy):\n",
    "    n1=9\n",
    "    atp=14\n",
    "    \n",
    "    def init(self):\n",
    "        close = self.data.Close\n",
    "        high = self.data.High\n",
    "        low = self.data.Low\n",
    "        self.sma1= ta.SMA(close,self.n1)\n",
    "        self.aroondown, self.aroonup = ta.AROON(low, high, self.atp)\n",
    "\n",
    "\n",
    "        # Print values for debugging\n",
    "        print(\"Close:\", close)\n",
    "        print(\"High:\", high)\n",
    "        print(\"Low:\", low)\n",
    "        print(\"SMA1:\", self.sma1)\n",
    "        print(\"AroonUp:\", self.aroonup)\n",
    "        print(\"AroonDown:\", self.aroondown)\n",
    "    \n",
    "    def next(self):\n",
    "        close = self.data.Close\n",
    "        if crossover(self.aroonup,self.aroondown) and close > self.sma1:\n",
    "            self.buy()\n",
    "        elif crossover(self.aroondown,self.aroonup)and close < self.sma1:\n",
    "            self.sell()"
   ]
  },
  {
   "cell_type": "code",
   "execution_count": 114,
   "metadata": {},
   "outputs": [
    {
     "name": "stdout",
     "output_type": "stream",
     "text": [
      "[*********************100%***********************]  1 of 1 completed\n"
     ]
    }
   ],
   "source": [
    "df =yf.download('BTC-USD',start='2018-1-1',interval='1d')"
   ]
  },
  {
   "cell_type": "code",
   "execution_count": 115,
   "metadata": {},
   "outputs": [
    {
     "data": {
      "text/html": [
       "<div>\n",
       "<style scoped>\n",
       "    .dataframe tbody tr th:only-of-type {\n",
       "        vertical-align: middle;\n",
       "    }\n",
       "\n",
       "    .dataframe tbody tr th {\n",
       "        vertical-align: top;\n",
       "    }\n",
       "\n",
       "    .dataframe thead th {\n",
       "        text-align: right;\n",
       "    }\n",
       "</style>\n",
       "<table border=\"1\" class=\"dataframe\">\n",
       "  <thead>\n",
       "    <tr style=\"text-align: right;\">\n",
       "      <th></th>\n",
       "      <th>Open</th>\n",
       "      <th>High</th>\n",
       "      <th>Low</th>\n",
       "      <th>Close</th>\n",
       "      <th>Adj Close</th>\n",
       "      <th>Volume</th>\n",
       "    </tr>\n",
       "    <tr>\n",
       "      <th>Date</th>\n",
       "      <th></th>\n",
       "      <th></th>\n",
       "      <th></th>\n",
       "      <th></th>\n",
       "      <th></th>\n",
       "      <th></th>\n",
       "    </tr>\n",
       "  </thead>\n",
       "  <tbody>\n",
       "    <tr>\n",
       "      <th>2018-01-01</th>\n",
       "      <td>14112.200195</td>\n",
       "      <td>14112.200195</td>\n",
       "      <td>13154.700195</td>\n",
       "      <td>13657.200195</td>\n",
       "      <td>13657.200195</td>\n",
       "      <td>10291200000</td>\n",
       "    </tr>\n",
       "    <tr>\n",
       "      <th>2018-01-02</th>\n",
       "      <td>13625.000000</td>\n",
       "      <td>15444.599609</td>\n",
       "      <td>13163.599609</td>\n",
       "      <td>14982.099609</td>\n",
       "      <td>14982.099609</td>\n",
       "      <td>16846600192</td>\n",
       "    </tr>\n",
       "    <tr>\n",
       "      <th>2018-01-03</th>\n",
       "      <td>14978.200195</td>\n",
       "      <td>15572.799805</td>\n",
       "      <td>14844.500000</td>\n",
       "      <td>15201.000000</td>\n",
       "      <td>15201.000000</td>\n",
       "      <td>16871900160</td>\n",
       "    </tr>\n",
       "    <tr>\n",
       "      <th>2018-01-04</th>\n",
       "      <td>15270.700195</td>\n",
       "      <td>15739.700195</td>\n",
       "      <td>14522.200195</td>\n",
       "      <td>15599.200195</td>\n",
       "      <td>15599.200195</td>\n",
       "      <td>21783199744</td>\n",
       "    </tr>\n",
       "    <tr>\n",
       "      <th>2018-01-05</th>\n",
       "      <td>15477.200195</td>\n",
       "      <td>17705.199219</td>\n",
       "      <td>15202.799805</td>\n",
       "      <td>17429.500000</td>\n",
       "      <td>17429.500000</td>\n",
       "      <td>23840899072</td>\n",
       "    </tr>\n",
       "    <tr>\n",
       "      <th>...</th>\n",
       "      <td>...</td>\n",
       "      <td>...</td>\n",
       "      <td>...</td>\n",
       "      <td>...</td>\n",
       "      <td>...</td>\n",
       "      <td>...</td>\n",
       "    </tr>\n",
       "    <tr>\n",
       "      <th>2023-05-07</th>\n",
       "      <td>28901.623047</td>\n",
       "      <td>29157.517578</td>\n",
       "      <td>28441.367188</td>\n",
       "      <td>28454.978516</td>\n",
       "      <td>28454.978516</td>\n",
       "      <td>11301355486</td>\n",
       "    </tr>\n",
       "    <tr>\n",
       "      <th>2023-05-08</th>\n",
       "      <td>28450.457031</td>\n",
       "      <td>28663.271484</td>\n",
       "      <td>27310.134766</td>\n",
       "      <td>27694.273438</td>\n",
       "      <td>27694.273438</td>\n",
       "      <td>19122903752</td>\n",
       "    </tr>\n",
       "    <tr>\n",
       "      <th>2023-05-09</th>\n",
       "      <td>27695.068359</td>\n",
       "      <td>27821.400391</td>\n",
       "      <td>27375.601562</td>\n",
       "      <td>27658.775391</td>\n",
       "      <td>27658.775391</td>\n",
       "      <td>14128593256</td>\n",
       "    </tr>\n",
       "    <tr>\n",
       "      <th>2023-05-10</th>\n",
       "      <td>27654.636719</td>\n",
       "      <td>28322.687500</td>\n",
       "      <td>26883.669922</td>\n",
       "      <td>27621.755859</td>\n",
       "      <td>27621.755859</td>\n",
       "      <td>20656025026</td>\n",
       "    </tr>\n",
       "    <tr>\n",
       "      <th>2023-05-11</th>\n",
       "      <td>27618.919922</td>\n",
       "      <td>27621.716797</td>\n",
       "      <td>26781.826172</td>\n",
       "      <td>26903.394531</td>\n",
       "      <td>26903.394531</td>\n",
       "      <td>17454288896</td>\n",
       "    </tr>\n",
       "  </tbody>\n",
       "</table>\n",
       "<p>1957 rows × 6 columns</p>\n",
       "</div>"
      ],
      "text/plain": [
       "                    Open          High           Low         Close  \\\n",
       "Date                                                                 \n",
       "2018-01-01  14112.200195  14112.200195  13154.700195  13657.200195   \n",
       "2018-01-02  13625.000000  15444.599609  13163.599609  14982.099609   \n",
       "2018-01-03  14978.200195  15572.799805  14844.500000  15201.000000   \n",
       "2018-01-04  15270.700195  15739.700195  14522.200195  15599.200195   \n",
       "2018-01-05  15477.200195  17705.199219  15202.799805  17429.500000   \n",
       "...                  ...           ...           ...           ...   \n",
       "2023-05-07  28901.623047  29157.517578  28441.367188  28454.978516   \n",
       "2023-05-08  28450.457031  28663.271484  27310.134766  27694.273438   \n",
       "2023-05-09  27695.068359  27821.400391  27375.601562  27658.775391   \n",
       "2023-05-10  27654.636719  28322.687500  26883.669922  27621.755859   \n",
       "2023-05-11  27618.919922  27621.716797  26781.826172  26903.394531   \n",
       "\n",
       "               Adj Close       Volume  \n",
       "Date                                   \n",
       "2018-01-01  13657.200195  10291200000  \n",
       "2018-01-02  14982.099609  16846600192  \n",
       "2018-01-03  15201.000000  16871900160  \n",
       "2018-01-04  15599.200195  21783199744  \n",
       "2018-01-05  17429.500000  23840899072  \n",
       "...                  ...          ...  \n",
       "2023-05-07  28454.978516  11301355486  \n",
       "2023-05-08  27694.273438  19122903752  \n",
       "2023-05-09  27658.775391  14128593256  \n",
       "2023-05-10  27621.755859  20656025026  \n",
       "2023-05-11  26903.394531  17454288896  \n",
       "\n",
       "[1957 rows x 6 columns]"
      ]
     },
     "execution_count": 115,
     "metadata": {},
     "output_type": "execute_result"
    }
   ],
   "source": [
    "df"
   ]
  },
  {
   "cell_type": "code",
   "execution_count": 116,
   "metadata": {},
   "outputs": [],
   "source": [
    "bt = Backtest(df,SMAcross,cash=100000,commission=0.002,exclusive_orders=True)"
   ]
  },
  {
   "cell_type": "code",
   "execution_count": 117,
   "metadata": {},
   "outputs": [
    {
     "name": "stdout",
     "output_type": "stream",
     "text": [
      "Close: [13657.20019531 14982.09960938 15201.         ... 27658.77539062\n",
      " 27621.75585938 26903.39453125]\n",
      "High: [14112.20019531 15444.59960938 15572.79980469 ... 27821.40039062\n",
      " 28322.6875     27621.71679688]\n",
      "Low: [13154.70019531 13163.59960938 14844.5        ... 27375.6015625\n",
      " 26883.66992188 26781.82617188]\n",
      "SMA1: [           nan            nan            nan ... 28541.46223958\n",
      " 28489.26085069 28291.80056424]\n",
      "AroonUp: [        nan         nan         nan ... 35.71428571 28.57142857\n",
      " 21.42857143]\n",
      "AroonDown: [         nan          nan          nan ... 100.          92.85714286\n",
      " 100.        ]\n"
     ]
    },
    {
     "data": {
      "text/plain": [
       "Start                     2018-01-01 00:00:00\n",
       "End                       2023-05-11 00:00:00\n",
       "Duration                   1956 days 00:00:00\n",
       "Exposure Time [%]                         0.0\n",
       "Equity Final [$]                     100000.0\n",
       "Equity Peak [$]                      100000.0\n",
       "Return [%]                                0.0\n",
       "Buy & Hold Return [%]               96.990556\n",
       "Return (Ann.) [%]                         0.0\n",
       "Volatility (Ann.) [%]                     0.0\n",
       "Sharpe Ratio                              NaN\n",
       "Sortino Ratio                             NaN\n",
       "Calmar Ratio                              NaN\n",
       "Max. Drawdown [%]                        -0.0\n",
       "Avg. Drawdown [%]                         NaN\n",
       "Max. Drawdown Duration                    NaN\n",
       "Avg. Drawdown Duration                    NaN\n",
       "# Trades                                    0\n",
       "Win Rate [%]                              NaN\n",
       "Best Trade [%]                            NaN\n",
       "Worst Trade [%]                           NaN\n",
       "Avg. Trade [%]                            NaN\n",
       "Max. Trade Duration                       NaN\n",
       "Avg. Trade Duration                       NaN\n",
       "Profit Factor                             NaN\n",
       "Expectancy [%]                            NaN\n",
       "SQN                                       NaN\n",
       "_strategy                            SMAcross\n",
       "_equity_curve                           Eq...\n",
       "_trades                   Empty DataFrame\n",
       "...\n",
       "dtype: object"
      ]
     },
     "execution_count": 117,
     "metadata": {},
     "output_type": "execute_result"
    }
   ],
   "source": [
    "output = bt.run()\n",
    "output\n"
   ]
  },
  {
   "cell_type": "code",
   "execution_count": 118,
   "metadata": {},
   "outputs": [
    {
     "name": "stderr",
     "output_type": "stream",
     "text": [
      "BokehDeprecationWarning: Passing lists of formats for DatetimeTickFormatter scales was deprecated in Bokeh 3.0. Configure a single string format for each scale\n",
      "c:\\Users\\WORKSTATION\\AppData\\Local\\Programs\\Python\\Python39\\lib\\site-packages\\backtesting\\_plotting.py:250: UserWarning: DatetimeFormatter scales now only accept a single format. Using the first provided: '%d %b'\n",
      "  formatter=DatetimeTickFormatter(days=['%d %b', '%a %d'],\n",
      "BokehDeprecationWarning: Passing lists of formats for DatetimeTickFormatter scales was deprecated in Bokeh 3.0. Configure a single string format for each scale\n",
      "c:\\Users\\WORKSTATION\\AppData\\Local\\Programs\\Python\\Python39\\lib\\site-packages\\backtesting\\_plotting.py:250: UserWarning: DatetimeFormatter scales now only accept a single format. Using the first provided: '%m/%Y'\n",
      "  formatter=DatetimeTickFormatter(days=['%d %b', '%a %d'],\n"
     ]
    },
    {
     "data": {
      "text/html": [
       "<div style=\"display: table;\"><div style=\"display: table-row;\"><div style=\"display: table-cell;\"><b title=\"bokeh.models.plots.GridPlot\">GridPlot</b>(</div><div style=\"display: table-cell;\">id&nbsp;=&nbsp;'p3053', <span id=\"p3270\" style=\"cursor: pointer;\">&hellip;)</span></div></div><div class=\"p3269\" style=\"display: none;\"><div style=\"display: table-cell;\"></div><div style=\"display: table-cell;\">align&nbsp;=&nbsp;'auto',</div></div><div class=\"p3269\" style=\"display: none;\"><div style=\"display: table-cell;\"></div><div style=\"display: table-cell;\">aspect_ratio&nbsp;=&nbsp;None,</div></div><div class=\"p3269\" style=\"display: none;\"><div style=\"display: table-cell;\"></div><div style=\"display: table-cell;\">children&nbsp;=&nbsp;[(figure(id='p2818', ...), 0, 0), (figure(id='p2877', ...), 1, 0)],</div></div><div class=\"p3269\" style=\"display: none;\"><div style=\"display: table-cell;\"></div><div style=\"display: table-cell;\">cols&nbsp;=&nbsp;None,</div></div><div class=\"p3269\" style=\"display: none;\"><div style=\"display: table-cell;\"></div><div style=\"display: table-cell;\">context_menu&nbsp;=&nbsp;None,</div></div><div class=\"p3269\" style=\"display: none;\"><div style=\"display: table-cell;\"></div><div style=\"display: table-cell;\">css_classes&nbsp;=&nbsp;[],</div></div><div class=\"p3269\" style=\"display: none;\"><div style=\"display: table-cell;\"></div><div style=\"display: table-cell;\">disabled&nbsp;=&nbsp;False,</div></div><div class=\"p3269\" style=\"display: none;\"><div style=\"display: table-cell;\"></div><div style=\"display: table-cell;\">flow_mode&nbsp;=&nbsp;'block',</div></div><div class=\"p3269\" style=\"display: none;\"><div style=\"display: table-cell;\"></div><div style=\"display: table-cell;\">height&nbsp;=&nbsp;None,</div></div><div class=\"p3269\" style=\"display: none;\"><div style=\"display: table-cell;\"></div><div style=\"display: table-cell;\">height_policy&nbsp;=&nbsp;'auto',</div></div><div class=\"p3269\" style=\"display: none;\"><div style=\"display: table-cell;\"></div><div style=\"display: table-cell;\">js_event_callbacks&nbsp;=&nbsp;{},</div></div><div class=\"p3269\" style=\"display: none;\"><div style=\"display: table-cell;\"></div><div style=\"display: table-cell;\">js_property_callbacks&nbsp;=&nbsp;{},</div></div><div class=\"p3269\" style=\"display: none;\"><div style=\"display: table-cell;\"></div><div style=\"display: table-cell;\">margin&nbsp;=&nbsp;None,</div></div><div class=\"p3269\" style=\"display: none;\"><div style=\"display: table-cell;\"></div><div style=\"display: table-cell;\">max_height&nbsp;=&nbsp;None,</div></div><div class=\"p3269\" style=\"display: none;\"><div style=\"display: table-cell;\"></div><div style=\"display: table-cell;\">max_width&nbsp;=&nbsp;None,</div></div><div class=\"p3269\" style=\"display: none;\"><div style=\"display: table-cell;\"></div><div style=\"display: table-cell;\">min_height&nbsp;=&nbsp;None,</div></div><div class=\"p3269\" style=\"display: none;\"><div style=\"display: table-cell;\"></div><div style=\"display: table-cell;\">min_width&nbsp;=&nbsp;None,</div></div><div class=\"p3269\" style=\"display: none;\"><div style=\"display: table-cell;\"></div><div style=\"display: table-cell;\">name&nbsp;=&nbsp;None,</div></div><div class=\"p3269\" style=\"display: none;\"><div style=\"display: table-cell;\"></div><div style=\"display: table-cell;\">resizable&nbsp;=&nbsp;False,</div></div><div class=\"p3269\" style=\"display: none;\"><div style=\"display: table-cell;\"></div><div style=\"display: table-cell;\">rows&nbsp;=&nbsp;None,</div></div><div class=\"p3269\" style=\"display: none;\"><div style=\"display: table-cell;\"></div><div style=\"display: table-cell;\">sizing_mode&nbsp;=&nbsp;'stretch_width',</div></div><div class=\"p3269\" style=\"display: none;\"><div style=\"display: table-cell;\"></div><div style=\"display: table-cell;\">spacing&nbsp;=&nbsp;0,</div></div><div class=\"p3269\" style=\"display: none;\"><div style=\"display: table-cell;\"></div><div style=\"display: table-cell;\">styles&nbsp;=&nbsp;{},</div></div><div class=\"p3269\" style=\"display: none;\"><div style=\"display: table-cell;\"></div><div style=\"display: table-cell;\">stylesheets&nbsp;=&nbsp;[],</div></div><div class=\"p3269\" style=\"display: none;\"><div style=\"display: table-cell;\"></div><div style=\"display: table-cell;\">subscribed_events&nbsp;=&nbsp;PropertyValueSet(),</div></div><div class=\"p3269\" style=\"display: none;\"><div style=\"display: table-cell;\"></div><div style=\"display: table-cell;\">syncable&nbsp;=&nbsp;True,</div></div><div class=\"p3269\" style=\"display: none;\"><div style=\"display: table-cell;\"></div><div style=\"display: table-cell;\">tags&nbsp;=&nbsp;[],</div></div><div class=\"p3269\" style=\"display: none;\"><div style=\"display: table-cell;\"></div><div style=\"display: table-cell;\">toolbar&nbsp;=&nbsp;Toolbar(id='p3052', ...),</div></div><div class=\"p3269\" style=\"display: none;\"><div style=\"display: table-cell;\"></div><div style=\"display: table-cell;\">toolbar_location&nbsp;=&nbsp;'right',</div></div><div class=\"p3269\" style=\"display: none;\"><div style=\"display: table-cell;\"></div><div style=\"display: table-cell;\">visible&nbsp;=&nbsp;True,</div></div><div class=\"p3269\" style=\"display: none;\"><div style=\"display: table-cell;\"></div><div style=\"display: table-cell;\">width&nbsp;=&nbsp;None,</div></div><div class=\"p3269\" style=\"display: none;\"><div style=\"display: table-cell;\"></div><div style=\"display: table-cell;\">width_policy&nbsp;=&nbsp;'auto')</div></div></div>\n",
       "<script>\n",
       "(function() {\n",
       "  let expanded = false;\n",
       "  const ellipsis = document.getElementById(\"p3270\");\n",
       "  ellipsis.addEventListener(\"click\", function() {\n",
       "    const rows = document.getElementsByClassName(\"p3269\");\n",
       "    for (let i = 0; i < rows.length; i++) {\n",
       "      const el = rows[i];\n",
       "      el.style.display = expanded ? \"none\" : \"table-row\";\n",
       "    }\n",
       "    ellipsis.innerHTML = expanded ? \"&hellip;)\" : \"&lsaquo;&lsaquo;&lsaquo;\";\n",
       "    expanded = !expanded;\n",
       "  });\n",
       "})();\n",
       "</script>\n"
      ],
      "text/plain": [
       "GridPlot(id='p3053', ...)"
      ]
     },
     "execution_count": 118,
     "metadata": {},
     "output_type": "execute_result"
    }
   ],
   "source": [
    "bt.plot()"
   ]
  }
 ],
 "metadata": {
  "kernelspec": {
   "display_name": "Python 3",
   "language": "python",
   "name": "python3"
  },
  "language_info": {
   "codemirror_mode": {
    "name": "ipython",
    "version": 3
   },
   "file_extension": ".py",
   "mimetype": "text/x-python",
   "name": "python",
   "nbconvert_exporter": "python",
   "pygments_lexer": "ipython3",
   "version": "3.9.5"
  },
  "orig_nbformat": 4
 },
 "nbformat": 4,
 "nbformat_minor": 2
}
