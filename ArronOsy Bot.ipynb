{
 "cells": [
  {
   "cell_type": "code",
   "execution_count": 1,
   "metadata": {},
   "outputs": [],
   "source": [
    "import websocket\n",
    "import talib \n",
    "import numpy as np\n",
    "import json"
   ]
  },
  {
   "cell_type": "code",
   "execution_count": 2,
   "metadata": {},
   "outputs": [],
   "source": [
    "# Define the socket\n",
    "\n",
    "cc = 'btcusdt'\n",
    "interval = '1m'\n",
    "\n",
    "socket =  f'wss://stream.binance.com:9443/ws/{cc}@kline_{interval}'"
   ]
  },
  {
   "cell_type": "code",
   "execution_count": 3,
   "metadata": {},
   "outputs": [],
   "source": [
    "#PROVIDING PARAMETERS\n",
    "\n",
    "core_to_trade = True      # core to trade strategy\n",
    "core_quantity = 0\n",
    "\n",
    "aroon_time_period = 14\n",
    "\n",
    "amount= 1000\n",
    "core_trade_amount = amount*0.8\n",
    "trade_amount = amount*0.2\n",
    "\n",
    "money_end = amount     # keep track of the amount\n",
    "portfolio = 0          # portfolio quantity  \n",
    "investments, closes, highs, lows = [], [], [], []       # keep track of investments by updating of remaining amount and closing,highs,lows of candles \n",
    "real_time_portfolio_value = []"
   ]
  },
  {
   "cell_type": "code",
   "execution_count": 4,
   "metadata": {},
   "outputs": [],
   "source": [
    "#PAPER TRADING SIMULATION FUNCTIONS\n",
    "\n",
    "def buy(allocate_amount,price):\n",
    "    global money_end, portfolio, investments\n",
    "    quantity = allocate_amount/price\n",
    "    money_end -= quantity*price\n",
    "    portfolio += quantity\n",
    "\n",
    "    if investments==[]:\n",
    "        investments.append(allocate_amount)\n",
    "    \n",
    "    else:\n",
    "        investments.append(allocate_amount)\n",
    "        investments[-1] += investments[-2]\n",
    "\n",
    "def sell(allocate_amount,price):\n",
    "    global money_end, portfolio, investments\n",
    "    quantity = allocate_amount/price\n",
    "    money_end += quantity*price\n",
    "    portfolio -= quantity\n",
    "\n",
    "    investments.append(-allocate_amount)\n",
    "    investments[-1] += investments[-2]\n",
    "\n",
    "\n",
    "# price = 100\n",
    "# buy(300,price)\n",
    "\n",
    "# print(investments)\n",
    "# print(portfolio)\n",
    "# print(money_end)\n",
    "\n",
    "# price = 150\n",
    "# sell(200,price)\n",
    "\n",
    "# print(investments)\n",
    "# print(portfolio)\n",
    "# print(money_end)"
   ]
  },
  {
   "cell_type": "code",
   "execution_count": null,
   "metadata": {},
   "outputs": [],
   "source": [
    "# EXTRACT WEBDATA USING WEBSOCKET AND BINANCE\n",
    "\n",
    "def on_close(ws):\n",
    "    portfolio_value = portfolio* closes[-1]\n",
    "    if portfolio_value > 0:\n",
    "        sell(portfolio_value, price= closes[-1])\n",
    "    else:\n",
    "        buy(-portfolio_value, price=closes[-1])\n",
    "    money_end += investments[-1] \n",
    "    print('close')\n",
    "\n",
    "def on_message(ws, message):\n",
    "    global closes, highs, lows, core_to_trade, core_quantity, money_end, portfolio, investments, core_quantity\n",
    "    json_message = json.loads(message)    #JSON for storing and exchanging data\n",
    "    cs = json_message['k']                # Extract k dictionary from the string\n",
    "    candle_closed, close, high, low = cs ['x'], cs ['c'], cs ['h'], cs ['l']\n",
    "    #print(candle_close,close,high,low)\n",
    "\n",
    "    if candle_closed:\n",
    "        closes.append(float(close))\n",
    "        highs.append(float(high))\n",
    "        lows.append(float(low))\n",
    "        last_price = closes[-1]\n",
    "        print(f'Closes: {closes}')\n",
    "        #print(closes,highs,lows)\n",
    "\n",
    "        # Setting up core portfolio for 80% of amount (Core Strategy)\n",
    "        if core_to_trade:         \n",
    "            buy(core_trade_amount, price = closes[-1])\n",
    "            print (f'Core Investment : We bought ${core_trade_amount} worth of bitcoin', '\\n')\n",
    "            core_quantity += core_trade_amount / closes[-1]\n",
    "            core_to_trade = False\n",
    "\n",
    "        # Setting up aroon startegy for 20% of amount (Satelite Strategy)\n",
    "        aroon = talib.AROONOSC(np.array(highs),np.array(lows), aroon_time_period)\n",
    "        last_aroon = round(aroon[-1],2)\n",
    "        amt = last_aroon * trade_amount/100\n",
    "        port_value = portfolio*last_price - core_quantity*last_price\n",
    "        trade_amt = amt - port_value\n",
    "        print(trade_amt)\n",
    "        print(port_value)\n",
    "        \n",
    "        RT_portfolio_value = port_value + core_quantity*last_price + money_end\n",
    "        real_time_portfolio_value.append(float(RT_portfolio_value))\n",
    "\n",
    "        print(f'The last Aroon is \"{last_aroon}\" and recommended exposure is \"${amt}\"')\n",
    "        print(f'Real-Time portfolio value is ${RT_portfolio_value}', '\\n')\n",
    "        print(real_time_portfolio_value)\n",
    "\n",
    "        if trade_amt > 0:\n",
    "            buy(trade_amt, price = last_price)\n",
    "            print(f'we bougnt ${trade_amt} worth of bitcoin', '\\n' , '\\n' )\n",
    "        elif trade_amt < 0:\n",
    "            sell(-trade_amt, price = last_price)\n",
    "            print(f'we sold ${-trade_amt} worth of bitcoin', '\\n' , '\\n' )\n",
    "\n",
    "ws = websocket.WebSocketApp(socket, on_message = on_message, on_close = on_close)\n",
    "\n"
   ]
  },
  {
   "cell_type": "code",
   "execution_count": 6,
   "metadata": {},
   "outputs": [
    {
     "name": "stdout",
     "output_type": "stream",
     "text": [
      "Closes: [27955.56]\n",
      "Core Investment : We bought $800.0 worth of bitcoin \n",
      "\n",
      "nan\n",
      "0.0\n",
      "The last Aroon is \"nan\" and recommended exposure is \"$nan\"\n",
      "Real-Time portfolio value is $1000.0 \n",
      "\n",
      "[1000.0]\n"
     ]
    },
    {
     "ename": "KeyboardInterrupt",
     "evalue": "",
     "output_type": "error",
     "traceback": [
      "\u001b[1;31m---------------------------------------------------------------------------\u001b[0m",
      "\u001b[1;31mKeyboardInterrupt\u001b[0m                         Traceback (most recent call last)",
      "\u001b[1;32md:\\Study\\Finance Projects\\Bitcoin Paper Trading\\ArronOsy Bot.ipynb Cell 6\u001b[0m in \u001b[0;36m1\n\u001b[1;32m----> <a href='vscode-notebook-cell:/d%3A/Study/Finance%20Projects/Bitcoin%20Paper%20Trading/ArronOsy%20Bot.ipynb#W5sZmlsZQ%3D%3D?line=0'>1</a>\u001b[0m ws\u001b[39m.\u001b[39mrun_forever()\n",
      "File \u001b[1;32mc:\\Users\\WORKSTATION\\AppData\\Local\\Programs\\Python\\Python39\\lib\\site-packages\\websocket\\_app.py:483\u001b[0m, in \u001b[0;36mWebSocketApp.run_forever\u001b[1;34m(self, sockopt, sslopt, ping_interval, ping_timeout, ping_payload, http_proxy_host, http_proxy_port, http_no_proxy, http_proxy_auth, http_proxy_timeout, skip_utf8_validation, host, origin, dispatcher, suppress_origin, proxy_type, reconnect)\u001b[0m\n\u001b[0;32m    480\u001b[0m custom_dispatcher \u001b[39m=\u001b[39m \u001b[39mbool\u001b[39m(dispatcher)\n\u001b[0;32m    481\u001b[0m dispatcher \u001b[39m=\u001b[39m \u001b[39mself\u001b[39m\u001b[39m.\u001b[39mcreate_dispatcher(ping_timeout, dispatcher, parse_url(\u001b[39mself\u001b[39m\u001b[39m.\u001b[39murl)[\u001b[39m3\u001b[39m])\n\u001b[1;32m--> 483\u001b[0m setSock()\n\u001b[0;32m    484\u001b[0m \u001b[39mif\u001b[39;00m \u001b[39mnot\u001b[39;00m custom_dispatcher \u001b[39mand\u001b[39;00m reconnect:\n\u001b[0;32m    485\u001b[0m     \u001b[39mwhile\u001b[39;00m \u001b[39mself\u001b[39m\u001b[39m.\u001b[39mkeep_running:\n",
      "File \u001b[1;32mc:\\Users\\WORKSTATION\\AppData\\Local\\Programs\\Python\\Python39\\lib\\site-packages\\websocket\\_app.py:413\u001b[0m, in \u001b[0;36mWebSocketApp.run_forever.<locals>.setSock\u001b[1;34m(reconnecting)\u001b[0m\n\u001b[0;32m    411\u001b[0m     dispatcher\u001b[39m.\u001b[39mread(\u001b[39mself\u001b[39m\u001b[39m.\u001b[39msock\u001b[39m.\u001b[39msock, read, check)\n\u001b[0;32m    412\u001b[0m \u001b[39mexcept\u001b[39;00m (WebSocketConnectionClosedException, \u001b[39mConnectionRefusedError\u001b[39;00m, \u001b[39mKeyboardInterrupt\u001b[39;00m, \u001b[39mSystemExit\u001b[39;00m, \u001b[39mException\u001b[39;00m) \u001b[39mas\u001b[39;00m e:\n\u001b[1;32m--> 413\u001b[0m     handleDisconnect(e, reconnecting)\n",
      "File \u001b[1;32mc:\\Users\\WORKSTATION\\AppData\\Local\\Programs\\Python\\Python39\\lib\\site-packages\\websocket\\_app.py:411\u001b[0m, in \u001b[0;36mWebSocketApp.run_forever.<locals>.setSock\u001b[1;34m(reconnecting)\u001b[0m\n\u001b[0;32m    407\u001b[0m         \u001b[39mself\u001b[39m\u001b[39m.\u001b[39m_start_ping_thread()\n\u001b[0;32m    409\u001b[0m     \u001b[39mself\u001b[39m\u001b[39m.\u001b[39m_callback(\u001b[39mself\u001b[39m\u001b[39m.\u001b[39mon_open)\n\u001b[1;32m--> 411\u001b[0m     dispatcher\u001b[39m.\u001b[39;49mread(\u001b[39mself\u001b[39;49m\u001b[39m.\u001b[39;49msock\u001b[39m.\u001b[39;49msock, read, check)\n\u001b[0;32m    412\u001b[0m \u001b[39mexcept\u001b[39;00m (WebSocketConnectionClosedException, \u001b[39mConnectionRefusedError\u001b[39;00m, \u001b[39mKeyboardInterrupt\u001b[39;00m, \u001b[39mSystemExit\u001b[39;00m, \u001b[39mException\u001b[39;00m) \u001b[39mas\u001b[39;00m e:\n\u001b[0;32m    413\u001b[0m     handleDisconnect(e, reconnecting)\n",
      "File \u001b[1;32mc:\\Users\\WORKSTATION\\AppData\\Local\\Programs\\Python\\Python39\\lib\\site-packages\\websocket\\_app.py:87\u001b[0m, in \u001b[0;36mSSLDispatcher.read\u001b[1;34m(self, sock, read_callback, check_callback)\u001b[0m\n\u001b[0;32m     85\u001b[0m \u001b[39mdef\u001b[39;00m \u001b[39mread\u001b[39m(\u001b[39mself\u001b[39m, sock, read_callback, check_callback):\n\u001b[0;32m     86\u001b[0m     \u001b[39mwhile\u001b[39;00m \u001b[39mself\u001b[39m\u001b[39m.\u001b[39mapp\u001b[39m.\u001b[39mkeep_running:\n\u001b[1;32m---> 87\u001b[0m         r \u001b[39m=\u001b[39m \u001b[39mself\u001b[39;49m\u001b[39m.\u001b[39;49mselect()\n\u001b[0;32m     88\u001b[0m         \u001b[39mif\u001b[39;00m r:\n\u001b[0;32m     89\u001b[0m             \u001b[39mif\u001b[39;00m \u001b[39mnot\u001b[39;00m read_callback():\n",
      "File \u001b[1;32mc:\\Users\\WORKSTATION\\AppData\\Local\\Programs\\Python\\Python39\\lib\\site-packages\\websocket\\_app.py:101\u001b[0m, in \u001b[0;36mSSLDispatcher.select\u001b[1;34m(self)\u001b[0m\n\u001b[0;32m     98\u001b[0m sel \u001b[39m=\u001b[39m selectors\u001b[39m.\u001b[39mDefaultSelector()\n\u001b[0;32m     99\u001b[0m sel\u001b[39m.\u001b[39mregister(sock, selectors\u001b[39m.\u001b[39mEVENT_READ)\n\u001b[1;32m--> 101\u001b[0m r \u001b[39m=\u001b[39m sel\u001b[39m.\u001b[39;49mselect(\u001b[39mself\u001b[39;49m\u001b[39m.\u001b[39;49mping_timeout)\n\u001b[0;32m    102\u001b[0m sel\u001b[39m.\u001b[39mclose()\n\u001b[0;32m    104\u001b[0m \u001b[39mif\u001b[39;00m \u001b[39mlen\u001b[39m(r) \u001b[39m>\u001b[39m \u001b[39m0\u001b[39m:\n",
      "File \u001b[1;32mc:\\Users\\WORKSTATION\\AppData\\Local\\Programs\\Python\\Python39\\lib\\selectors.py:324\u001b[0m, in \u001b[0;36mSelectSelector.select\u001b[1;34m(self, timeout)\u001b[0m\n\u001b[0;32m    322\u001b[0m ready \u001b[39m=\u001b[39m []\n\u001b[0;32m    323\u001b[0m \u001b[39mtry\u001b[39;00m:\n\u001b[1;32m--> 324\u001b[0m     r, w, _ \u001b[39m=\u001b[39m \u001b[39mself\u001b[39;49m\u001b[39m.\u001b[39;49m_select(\u001b[39mself\u001b[39;49m\u001b[39m.\u001b[39;49m_readers, \u001b[39mself\u001b[39;49m\u001b[39m.\u001b[39;49m_writers, [], timeout)\n\u001b[0;32m    325\u001b[0m \u001b[39mexcept\u001b[39;00m \u001b[39mInterruptedError\u001b[39;00m:\n\u001b[0;32m    326\u001b[0m     \u001b[39mreturn\u001b[39;00m ready\n",
      "File \u001b[1;32mc:\\Users\\WORKSTATION\\AppData\\Local\\Programs\\Python\\Python39\\lib\\selectors.py:315\u001b[0m, in \u001b[0;36mSelectSelector._select\u001b[1;34m(self, r, w, _, timeout)\u001b[0m\n\u001b[0;32m    314\u001b[0m \u001b[39mdef\u001b[39;00m \u001b[39m_select\u001b[39m(\u001b[39mself\u001b[39m, r, w, _, timeout\u001b[39m=\u001b[39m\u001b[39mNone\u001b[39;00m):\n\u001b[1;32m--> 315\u001b[0m     r, w, x \u001b[39m=\u001b[39m select\u001b[39m.\u001b[39;49mselect(r, w, w, timeout)\n\u001b[0;32m    316\u001b[0m     \u001b[39mreturn\u001b[39;00m r, w \u001b[39m+\u001b[39m x, []\n",
      "\u001b[1;31mKeyboardInterrupt\u001b[0m: "
     ]
    }
   ],
   "source": [
    "ws.run_forever()"
   ]
  },
  {
   "cell_type": "code",
   "execution_count": null,
   "metadata": {},
   "outputs": [],
   "source": [
    "core_to_trade"
   ]
  }
 ],
 "metadata": {
  "kernelspec": {
   "display_name": "Python 3",
   "language": "python",
   "name": "python3"
  },
  "language_info": {
   "codemirror_mode": {
    "name": "ipython",
    "version": 3
   },
   "file_extension": ".py",
   "mimetype": "text/x-python",
   "name": "python",
   "nbconvert_exporter": "python",
   "pygments_lexer": "ipython3",
   "version": "3.9.5"
  },
  "orig_nbformat": 4
 },
 "nbformat": 4,
 "nbformat_minor": 2
}
